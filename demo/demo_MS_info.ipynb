{
 "cells": [
  {
   "cell_type": "code",
   "execution_count": 1,
   "id": "2f10baf6-70b0-4b9a-bd6d-ba90f534267b",
   "metadata": {},
   "outputs": [],
   "source": [
    "from lofarSun.cli import pyms_utils\n",
    "import numpy as np"
   ]
  },
  {
   "cell_type": "code",
   "execution_count": 2,
   "id": "55efbe01-f2e3-4903-91af-76f03697692d",
   "metadata": {},
   "outputs": [
    {
     "name": "stdout",
     "output_type": "stream",
     "text": [
      "46679687.5\n",
      "time count and range:  (4793, array([datetime.datetime(2015, 10, 16, 12, 44, 59, 987354),\n",
      "       datetime.datetime(2015, 10, 16, 13, 5, 0, 125174)], dtype=object))\n"
     ]
    }
   ],
   "source": [
    "fname = r'/wrk-kappa/group/corona/peijin/LC4/MStgt/t1245_1305/L401013_SB137_uv.dppp.MS'\n",
    "freq = pyms_utils.get_freq_from_ms(fname)\n",
    "time = pyms_utils.get_t_from_ms(fname)\n",
    "print(freq)\n",
    "print(\"time count and range: \", time)"
   ]
  },
  {
   "cell_type": "code",
   "execution_count": 4,
   "id": "e08c30ba",
   "metadata": {},
   "outputs": [
    {
     "name": "stdout",
     "output_type": "stream",
     "text": [
      "wsclean -mem 90 -no-reorder -no-update-model-required -mgain 0.5 -weight briggs 0 -multiscale -auto-mask 3 -auto-threshold 0.3 -size 259 259 -scale 30.804841261012854asec -pol I -data-column CORRECTED_DATA -interval 0 4793 -intervals-out 4793 -circularbeam -niter 3000 -name \n"
     ]
    }
   ],
   "source": [
    "print(pyms_utils.cook_wsclean_cmd(fname))"
   ]
  },
  {
   "cell_type": "code",
   "execution_count": null,
   "id": "752c4d63",
   "metadata": {},
   "outputs": [],
   "source": []
  }
 ],
 "metadata": {
  "kernelspec": {
   "display_name": "Python 3",
   "language": "python",
   "name": "python3"
  },
  "language_info": {
   "codemirror_mode": {
    "name": "ipython",
    "version": 3
   },
   "file_extension": ".py",
   "mimetype": "text/x-python",
   "name": "python",
   "nbconvert_exporter": "python",
   "pygments_lexer": "ipython3",
   "version": "3.9.15"
  },
  "vscode": {
   "interpreter": {
    "hash": "f03a0c1827070b59bb06e5e5261162a61d8979e1d4fb200f69e5c36cc39de5bd"
   }
  }
 },
 "nbformat": 4,
 "nbformat_minor": 5
}
